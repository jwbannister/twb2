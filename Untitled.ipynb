{
 "cells": [
  {
   "cell_type": "code",
   "execution_count": 6,
   "metadata": {
    "collapsed": false
   },
   "outputs": [
    {
     "name": "stderr",
     "output_type": "stream",
     "text": [
      "Loading twb2\n",
      "Loading Rowens\n"
     ]
    }
   ],
   "source": [
    "load_all()\n",
    "load_all(\"../Rowens\")\n",
    "library(dplyr)\n",
    "library(jsonlite)"
   ]
  },
  {
   "cell_type": "code",
   "execution_count": 7,
   "metadata": {
    "collapsed": false
   },
   "outputs": [
    {
     "ename": "ERROR",
     "evalue": "Error in paste0(site, tok): argument \"tok\" is missing, with no default\n",
     "output_type": "error",
     "traceback": [
      "Error in paste0(site, tok): argument \"tok\" is missing, with no default\n"
     ]
    },
    {
     "ename": "ERROR",
     "evalue": "Error in is.data.frame(x): object 'df1' not found\n",
     "output_type": "error",
     "traceback": [
      "Error in is.data.frame(x): object 'df1' not found\n"
     ]
    },
    {
     "ename": "ERROR",
     "evalue": "Error in is.data.frame(x): object 'df1' not found\n",
     "output_type": "error",
     "traceback": [
      "Error in is.data.frame(x): object 'df1' not found\n"
     ]
    },
    {
     "ename": "ERROR",
     "evalue": "Error in is.data.frame(x): object 'df1' not found\n",
     "output_type": "error",
     "traceback": [
      "Error in is.data.frame(x): object 'df1' not found\n"
     ]
    },
    {
     "ename": "ERROR",
     "evalue": "Error in is.data.frame(x): object 'df1' not found\n",
     "output_type": "error",
     "traceback": [
      "Error in is.data.frame(x): object 'df1' not found\n"
     ]
    },
    {
     "ename": "ERROR",
     "evalue": "Error in is.data.frame(x): object 'df1' not found\n",
     "output_type": "error",
     "traceback": [
      "Error in is.data.frame(x): object 'df1' not found\n"
     ]
    },
    {
     "ename": "ERROR",
     "evalue": "Error in select_(.data, .dots = lazyeval::lazy_dots(...)): object 'df1' not found\n",
     "output_type": "error",
     "traceback": [
      "Error in select_(.data, .dots = lazyeval::lazy_dots(...)): object 'df1' not found\n"
     ]
    },
    {
     "ename": "ERROR",
     "evalue": "Error in convert_ESRI_date(df1$date): object 'df1' not found\n",
     "output_type": "error",
     "traceback": [
      "Error in convert_ESRI_date(df1$date): object 'df1' not found\n"
     ]
    },
    {
     "ename": "ERROR",
     "evalue": "Error in toupper(df1$site.id): object 'df1' not found\n",
     "output_type": "error",
     "traceback": [
      "Error in toupper(df1$site.id): object 'df1' not found\n"
     ]
    },
    {
     "ename": "ERROR",
     "evalue": "Error in gsub(\"-\", \"\", df1$site.id): object 'df1' not found\n",
     "output_type": "error",
     "traceback": [
      "Error in gsub(\"-\", \"\", df1$site.id): object 'df1' not found\n"
     ]
    },
    {
     "ename": "ERROR",
     "evalue": "Error in gsub(\" \", \"\", df1$site.id): object 'df1' not found\n",
     "output_type": "error",
     "traceback": [
      "Error in gsub(\" \", \"\", df1$site.id): object 'df1' not found\n"
     ]
    },
    {
     "ename": "ERROR",
     "evalue": "Error in gsub(\"_\", \"\", df1$site.id): object 'df1' not found\n",
     "output_type": "error",
     "traceback": [
      "Error in gsub(\"_\", \"\", df1$site.id): object 'df1' not found\n"
     ]
    },
    {
     "ename": "ERROR",
     "evalue": "Error in factor(vec, levels = c(0:10), labels = c(\"0%\", \"1-10%\", \"10-20%\", : object 'df1' not found\n",
     "output_type": "error",
     "traceback": [
      "Error in factor(vec, levels = c(0:10), labels = c(\"0%\", \"1-10%\", \"10-20%\", : object 'df1' not found\n"
     ]
    }
   ],
   "source": [
    "df1 <- query_AGOL(\"OwensLake_TwB2\", \n",
    "                  \"Owens_TwB2_Surface_FieldCollection_Active\", 0)\n",
    "df1 <- flatten(df1$features)"
   ]
  },
  {
   "cell_type": "code",
   "execution_count": null,
   "metadata": {
    "collapsed": true
   },
   "outputs": [],
   "source": []
  }
 ],
 "metadata": {
  "kernelspec": {
   "display_name": "R",
   "language": "R",
   "name": "ir"
  },
  "language_info": {
   "codemirror_mode": "r",
   "file_extension": ".r",
   "mimetype": "text/x-r-source",
   "name": "R",
   "pygments_lexer": "r",
   "version": "3.2.4"
  }
 },
 "nbformat": 4,
 "nbformat_minor": 0
}
